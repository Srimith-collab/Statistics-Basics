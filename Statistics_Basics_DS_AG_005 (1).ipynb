{
  "nbformat": 4,
  "nbformat_minor": 0,
  "metadata": {
    "colab": {
      "provenance": []
    },
    "kernelspec": {
      "name": "python3",
      "display_name": "Python 3"
    },
    "language_info": {
      "name": "python"
    }
  },
  "cells": [
    {
      "cell_type": "markdown",
      "source": [
        "#**Question 1: What is the difference between descriptive statistics and inferential statistics? Explain with examples.**\n",
        "\n",
        "  - **Descriptive Statistics**\n",
        "\n",
        "     - **Definition**: Descriptive statistics are techniques that are applied to sum up, arrange, and present information in a manner that is meaningful. It gives the key characteristics of a dataset without any conclusions other than the data.\n",
        "     - **Purpose**: To summarize or give a glimpse of the information obtained.\n",
        "     - **Common Tools**:\n",
        "     1.\tMeasures of central tendency: mean, median, mode\n",
        "     2.\tMeasures of dispersion: range, variance, standard deviation\n",
        "     3.\tGraphs and charts: histograms, bar charts, pie charts\n",
        "\n",
        "     **Example:**\n",
        "\n",
        "     A teacher collects the exam scores of 50 students.\n",
        "\n",
        "     •\tThe average (mean) score is 72.\n",
        "\n",
        "     •\tThe highest score is 95, and the lowest score is 40.\n",
        "\n",
        "     •\tA histogram shows how the scores are distributed.\n",
        "This is descriptive because it simply summarizes the data at hand.\n",
        "\n",
        "  - **Inferential Statistics**\n",
        "\n",
        "    - **Definition:** Inferential statistics involves the use of sample data to make inference, prediction or a decision about a larger population.\n",
        "\n",
        "    - **Purpose:**  To transcend the provided data and make conclusions or test hypotheses.\n",
        "\n",
        "    - **Common Tools:**\n",
        "    1.\tHypothesis testing (t-test, chi-square test, ANOVA)\n",
        "    2.\tConfidence intervals\n",
        "    3.\tRegression analysis\n",
        "    4.\tCorrelation\n",
        "\n",
        "    **Example:**\n",
        "\n",
        "    From the same class, instead of analyzing all 50 students, the teacher randomly selects 10 students’ scores as a sample.\n",
        "\n",
        "    •\tUsing statistical tests, the teacher estimates that the average score of the entire class is likely between 68 and 76 with 95% confidence.\n",
        "    \n",
        "    •\tThey might also test whether male and female students’ scores differ significantly\n",
        "\n",
        "    This is inferential because it uses a sample to make predictions or conclusions about the whole class (population).\n",
        "\n",
        "\n"
      ],
      "metadata": {
        "id": "2NCreH6I6LJk"
      }
    },
    {
      "cell_type": "markdown",
      "source": [
        "#**Question 2: What is sampling in statistics? Explain the differences between random and stratified sampling.**\n",
        "\n",
        "  - **Definition:** Sampling refers to the procedure of picking a part (known as a sample) of a bigger category (that is known as population) so that the population can be studied without considering each and every individual.\n",
        "\n",
        "  - **Purpose:** As it may be time-consuming, expensive or even impossible to study a whole population, sampling enables researchers to draw conclusions about a population basing on a convenient number of observations.\n",
        "\n",
        "  **Example:**\n",
        "\n",
        "  A company wants to know the satisfaction level of its 10,000 customers. Instead of surveying all 10,000 (population), it may survey 500 customers (sample) and generalize the findings.\n",
        "\n",
        "  - **Random Sampling:**\n",
        "\n",
        "     - Definition: In random sampling, each of the population members is given an equal opportunity of being selected.\n",
        "     - Procedure: The procedure is by chance (e.g. lottery or random number generator).\n",
        "     - Merits: Simple, unbiased, and representative, provided the size of the sample is large enough.\n",
        "     - Cons: Does not represent small sub groups in the population.\n",
        "\n",
        "     **Example:**\n",
        "\n",
        "     A teacher randomly selects 10 student names from a box containing all students’ names to represent the class.\n",
        "\n",
        "  - **Stratified Sampling:**\n",
        "\n",
        "     - Definition In stratified sampling, the population is separated into subgroups (strata) by certain characteristics (age, gender, income, education level). Random samples of every subgroup are then selected in proportion to the size of the subgroup.\n",
        "     - Procedure: Makes sure that the sub groups are reflected in the final sample.\n",
        "     - Advantages: More representative and accurate particularly where the population consists of different subgroups.\n",
        "     - Cons: It is more complicated and time-consuming to organize.\n",
        "\n",
        "     **Example:**\n",
        "\n",
        "     In a university with 60% female and 40% male students, if we want a sample of 100 students, we can divide into strata:\n",
        "    \n",
        "    •\tFemale stratum: 60 students randomly selected.\n",
        "\n",
        "    •\tMale stratum: 40 students randomly selected. This ensures both genders are proportionally represented.\n",
        "\n",
        "    **Differences between Random and Stratified Sampling**\n",
        "\n",
        "    \n",
        "\n",
        "\n"
      ],
      "metadata": {
        "id": "nqxpNGLJ8UrO"
      }
    },
    {
      "cell_type": "markdown",
      "metadata": {
        "id": "1e3aee6a"
      },
      "source": [
        "Here's a table summarizing the differences between Random and Stratified Sampling:\n",
        "\n",
        "| Aspect            | Random Sampling                                 | Stratified Sampling                                                    |\n",
        "|-------------------|-------------------------------------------------|------------------------------------------------------------------------|\n",
        "| **Definition**    | Every individual has an equal chance of selection. | Population divided into subgroups, and samples taken from each.        |\n",
        "| **Representativeness** | May miss important subgroups.                   | Ensures all subgroups are represented proportionally.                   |\n",
        "| **Complexity**    | Simple to implement.                            | More complex; requires knowledge of population structure and subgroup sizes. |\n",
        "| **Best Use Case** | When the population is homogeneous (similar).   | When the population is heterogeneous (diverse) and subgroup representation is important. |"
      ]
    },
    {
      "cell_type": "markdown",
      "source": [
        "# **Question 3: Define mean, median, and mode. Explain why these measures of central tendency are important.**\n",
        "\n",
        " - Mean (Arithmetic Average)\n",
        "\n",
        "    - Definition: The mean is the total values of the values in any data set and it is divided by the total number of values.\n",
        "\n",
        "    - Formula:"
      ],
      "metadata": {
        "id": "_EgdGR3E-lz4"
      }
    },
    {
      "cell_type": "markdown",
      "metadata": {
        "id": "f35f5b42"
      },
      "source": [
        "# **Question 3: Define mean, median, and mode. Explain why these measures of central tendency are important.**\n",
        "\n",
        "- Mean (Arithmetic Average)\n",
        "  \n",
        "  - Definition: The mean is the total values of the values in any data set and it is divided by the total number of values.\n",
        "  - Formula:\n",
        "  \n",
        "  $$ \\bar{x} = \\frac{\\sum_{i=1}^{n} x_i}{n} $$\n",
        "  \n",
        "  Where:\n",
        "  - $ \\bar{x} $ is the sample mean\n",
        "  - $ \\sum_{i=1}^{n} x_i $ is the sum of all values in the dataset\n",
        "  - $ n $ is the number of values in the dataset\n",
        "\n",
        "- Median (Middle Value)\n",
        "\n",
        "   - Definition: The median is the average of an ordered collection of data.\n",
        "\n",
        "   - Formula:"
      ]
    },
    {
      "cell_type": "markdown",
      "metadata": {
        "id": "5ae673bc"
      },
      "source": [
        "# **Question 3: Define mean, median, and mode. Explain why these measures of central tendency are important.**\n",
        "\n",
        "- Mean (Arithmetic Average)\n",
        "  \n",
        "  - Definition: The mean is the total values of the values in any data set and it is divided by the total number of values.\n",
        "  - Formula:\n",
        "  \n",
        "  $$ \\bar{x} = \\frac{\\sum_{i=1}^{n} x_i}{n} $$\n",
        "  \n",
        "  Where:\n",
        "  - $ \\bar{x} $ is the sample mean\n",
        "  - $ \\sum_{i=1}^{n} x_i $ is the sum of all values in the dataset\n",
        "  - $ n $ is the number of values in the dataset\n",
        "- Median (Middle Value)\n",
        "  \n",
        "  - Definition: The median is the middle value in a dataset that is ordered from least to greatest. If there is an even number of values, the median is the average of the two middle values.\n",
        "  - Formula:\n",
        "    - If $n$ is odd: Median = the value at position $ \\frac{n+1}{2} $ in the ordered dataset.\n",
        "    - If $n$ is even: Median = the average of the values at positions $ \\frac{n}{2} $ and $ \\frac{n}{2} + 1 $ in the ordered dataset.\n",
        "\n",
        " - Mode (Most Frequent Value)\n",
        "\n",
        "    - Definition: The median is the average of an ordered collection of data. It is Useful in describing categorical or discrete data (e.g., most common survey response, most sold product size)."
      ]
    },
    {
      "cell_type": "markdown",
      "source": [
        "# **Question 4: Explain skewness and kurtosis. What does a positive skew imply about the data?**\n",
        "\n",
        "- **Skewness**\n",
        "\n",
        "   - **Defintion:** Skewness is used to determine how an asymmetric distribution is around the mean distribution.\n",
        "   - **Intrepretation:**\n",
        "\n",
        "       - **Zero skewness:** Distribution is perfectly symmetrical (e.g. normal distribution).\n",
        "       - **Positive skew (Right-skewed):** The right tail is longer. The frequency of most data values is on the left side with some extremes large values dragging the mean towards the right.\n",
        "       - **Negative skew (Left-skewed):** The tail to the left is longer. The majority of the data values are concentrated on the right with a few very small values that are dragging the mean towards the left.\n",
        "\n",
        "  - **Formula (Pearson’s moment coefficient of skewness)**\n",
        "\n",
        "  "
      ],
      "metadata": {
        "id": "GpY5H7DWAZQr"
      }
    },
    {
      "cell_type": "markdown",
      "metadata": {
        "id": "1f300493"
      },
      "source": [
        "# **Question 4: Explain skewness and kurtosis. What does a positive skew imply about the data?**\n",
        "\n",
        "- **Skewness**\n",
        "  \n",
        "  - **Defintion:** Skewness is used to determine how an asymmetric distribution is around the mean distribution.\n",
        "  - **Intrepretation:**\n",
        "    \n",
        "    - **Zero skewness:** Distribution is perfectly symmetrical (e.g. normal distribution).\n",
        "    - **Positive skew (Right-skewed):** The right tail is longer. The frequency of most data values is on the left side with some extremes large values dragging the mean towards the right.\n",
        "    - **Negative skew (Left-skewed):** The tail to the left is longer. The majority of the data values are concentrated on the right with a few very small values that are dragging the mean towards the left.\n",
        "  - **Formula (Pearson’s moment coefficient of skewness)**\n",
        "  \n",
        "  $$ g_1 = \\frac{\\sum_{i=1}^{n} (x_i - \\bar{x})^3 / n}{s^3} $$\n",
        "  \n",
        "  Where:\n",
        "  - $ g_1 $ is the Pearson's moment coefficient of skewness\n",
        "  - $ x_i $ is the i-th value\n",
        "  - $ \\bar{x} $ is the sample mean\n",
        "  - $ n $ is the number of values\n",
        "  - $ s $ is the sample standard deviation\n",
        "\n",
        "\n",
        "- **Kurtosis**\n",
        "\n",
        "   - **Definition:** Kurtosis quantifies the tail, or peakedness, of a distribution as compared to the normal distribution.\n",
        "\n",
        "   - **Interpretation:**\n",
        "\n",
        "      - Mesokurtic (kurtosis ‿ 3): The shape of normal distribution.\n",
        "      - Leptokurtic (kurtosis >3): Higher peak, fat tails (more outliers of the data).\n",
        "      - Platykurtic (kurtosis < 3): Flatter peak, tails are lighter (there are fewer outliers).\n",
        "\n",
        "    - **Formula (Excess Kurtosis):**\n",
        "\n",
        "    \n"
      ]
    },
    {
      "cell_type": "markdown",
      "metadata": {
        "id": "41660423"
      },
      "source": [
        "# **Question 4: Explain skewness and kurtosis. What does a positive skew imply about the data?**\n",
        "\n",
        "- **Skewness**\n",
        "  \n",
        "  - **Defintion:** Skewness is used to determine how an asymmetric distribution is around the mean distribution.\n",
        "  - **Intrepretation:**\n",
        "    \n",
        "    - **Zero skewness:** Distribution is perfectly symmetrical (e.g. normal distribution).\n",
        "    - **Positive skew (Right-skewed):** The right tail is longer. The frequency of most data values is on the left side with some extremes large values dragging the mean towards the right.\n",
        "    - **Negative skew (Left-skewed):** The tail to the left is longer. The majority of the data values are concentrated on the right with a few very small values that are dragging the mean towards the left.\n",
        "  - **Formula (Pearson’s moment coefficient of skewness)**\n",
        "  \n",
        "  $$ g_1 = \\frac{\\sum_{i=1}^{n} (x_i - \\bar{x})^3 / n}{s^3} $$\n",
        "  \n",
        "  Where:\n",
        "  - $ g_1 $ is the Pearson's moment coefficient of skewness\n",
        "  - $ x_i $ is the i-th value\n",
        "  - $ \\bar{x} $ is the sample mean\n",
        "  - $ n $ is the number of values\n",
        "  - $ s $ is the sample standard deviation\n",
        "- **Kurtosis**\n",
        "  \n",
        "  - **Definition:** Kurtosis quantifies the tail, or peakedness, of a distribution as compared to the normal distribution.\n",
        "  - **Interpretation:**\n",
        "    \n",
        "    - Mesokurtic (kurtosis ‿ 3): The shape of normal distribution.\n",
        "    - Leptokurtic (kurtosis >3): Higher peak, fat tails (more outliers of the data).\n",
        "    - Platykurtic (kurtosis < 3): Flatter peak, tails are lighter (there are fewer outliers).\n",
        "  - **Formula (Excess Kurtosis):**\n",
        "  \n",
        "  $$ g_2 = \\frac{\\sum_{i=1}^{n} (x_i - \\bar{x})^4 / n}{s^4} - 3 $$\n",
        "  \n",
        "  Where:\n",
        "  - $ g_2 $ is the excess kurtosis\n",
        "  - $ x_i $ is the i-th value\n",
        "  - $ \\bar{x} $ is the sample mean\n",
        "  - $ n $ is the number of values\n",
        "  - $ s $ is the sample standard deviation\n",
        "\n",
        "\n",
        "- **Implication of positive Skew**\n",
        "\n",
        "  - The tail is stretched to the right (positive direction).\n",
        "   - The mean > median > mode.\n",
        "    - The majority of observations are concentrated to the lower values and the few large values push the mean to the right.\n",
        "    - Examples in real life:\n",
        "\n",
        "       1.\tIncome distribution (a few very high earners pull the average up).\n",
        "       2.\tHousing prices in cities (most houses moderately priced, a few extremely expensive).\n",
        "\n"
      ]
    },
    {
      "cell_type": "markdown",
      "source": [
        "# **Question 5: Implement a Python program to compute the mean, median, and mode of a given list of numbers.**\n",
        " **numbers = [12, 15, 12, 18, 19, 12, 20, 22, 19, 19, 24, 24, 24, 26, 28]**"
      ],
      "metadata": {
        "id": "dOOR5TIWEgMW"
      }
    },
    {
      "cell_type": "code",
      "source": [
        "import statistics\n",
        "\n",
        "numbers = [12, 15, 12, 18, 19, 12, 20, 22, 19, 19, 24, 24, 24, 26, 28]\n",
        "\n",
        "mean_value = statistics.mean(numbers)\n",
        "median_value = statistics.median(numbers)\n",
        "mode_value = statistics.mode(numbers)\n",
        "\n",
        "print(f\"Mean: {mean_value}\")\n",
        "print(f\"Median: {median_value}\")\n",
        "print(f\"Mode: {mode_value}\")"
      ],
      "metadata": {
        "colab": {
          "base_uri": "https://localhost:8080/"
        },
        "id": "0Yw98TldEvQE",
        "outputId": "c90fd984-15f1-46d7-eb59-a147ed96220c"
      },
      "execution_count": 2,
      "outputs": [
        {
          "output_type": "stream",
          "name": "stdout",
          "text": [
            "Mean: 19.6\n",
            "Median: 19\n",
            "Mode: 12\n"
          ]
        }
      ]
    },
    {
      "cell_type": "markdown",
      "source": [
        "# **Question 6: Compute the covariance and correlation coefficient between the following two datasets provided as lists in Python:**\n",
        "**list_x = [10, 20, 30, 40, 50]**\n",
        "**list_y = [15, 25, 35, 45, 60]**\n",
        "\n",
        "\n"
      ],
      "metadata": {
        "id": "71O-gQxRFDzp"
      }
    },
    {
      "cell_type": "code",
      "source": [
        "import numpy as np\n",
        "\n",
        "list_x = [10, 20, 30, 40, 50]\n",
        "list_y = [15, 25, 35, 45, 60]\n",
        "\n",
        "# Compute covariance\n",
        "covariance = np.cov(list_x, list_y)[0, 1]\n",
        "\n",
        "# Compute correlation coefficient\n",
        "correlation_coefficient = np.corrcoef(list_x, list_y)[0, 1]\n",
        "\n",
        "print(f\"Covariance: {covariance}\")\n",
        "print(f\"Correlation Coefficient: {correlation_coefficient}\")\n"
      ],
      "metadata": {
        "colab": {
          "base_uri": "https://localhost:8080/"
        },
        "id": "fv55u9ByFPhc",
        "outputId": "8bdd496e-d969-482c-8c0a-24d16b645d72"
      },
      "execution_count": 3,
      "outputs": [
        {
          "output_type": "stream",
          "name": "stdout",
          "text": [
            "Covariance: 275.0\n",
            "Correlation Coefficient: 0.995893206467704\n"
          ]
        }
      ]
    },
    {
      "cell_type": "markdown",
      "source": [
        "# **Question 7: Write a Python script to draw a boxplot for the following numeric list and identify its outliers. Explain the result:**\n",
        "**data = [12, 14, 14, 15, 18, 19, 19, 21, 22, 22, 23, 23, 24, 26, 29, 35]**\n",
        "\n"
      ],
      "metadata": {
        "id": "puKTQlV-FTLb"
      }
    },
    {
      "cell_type": "code",
      "source": [
        "import matplotlib.pyplot as plt\n",
        "import seaborn as sns\n",
        "import pandas as pd\n",
        "\n",
        "data = [12, 14, 14, 15, 18, 19, 19, 21, 22, 22, 23, 23, 24, 26, 29, 35]\n",
        "\n",
        "# Create a pandas Series for easier handling\n",
        "data_series = pd.Series(data)\n",
        "\n",
        "# Create a boxplot\n",
        "plt.figure(figsize=(8, 6))\n",
        "sns.boxplot(x=data_series)\n",
        "plt.title('Boxplot of Data')\n",
        "plt.xlabel('Values')\n",
        "plt.show()\n",
        "\n",
        "# Calculate quartiles and IQR to identify outliers\n",
        "Q1 = data_series.quantile(0.25)\n",
        "Q3 = data_series.quantile(0.75)\n",
        "IQR = Q3 - Q1\n",
        "\n",
        "# Define bounds for outliers\n",
        "lower_bound = Q1 - 1.5 * IQR\n",
        "upper_bound = Q3 + 1.5 * IQR\n",
        "\n",
        "# Identify outliers\n",
        "outliers = data_series[(data_series < lower_bound) | (data_series > upper_bound)]\n",
        "\n",
        "print(f\"Q1 (25th percentile): {Q1}\")\n",
        "print(f\"Q3 (75th percentile): {Q3}\")\n",
        "print(f\"IQR (Interquartile Range): {IQR}\")\n",
        "print(f\"Lower Bound for Outliers: {lower_bound}\")\n",
        "print(f\"Upper Bound for Outliers: {upper_bound}\")\n",
        "print(f\"Identified Outliers: {outliers.tolist()}\")\n"
      ],
      "metadata": {
        "colab": {
          "base_uri": "https://localhost:8080/",
          "height": 673
        },
        "id": "yxK8YHcpFnSs",
        "outputId": "c1fdcafe-bb4f-4e27-fe3e-6fe4a6f36dd2"
      },
      "execution_count": 4,
      "outputs": [
        {
          "output_type": "display_data",
          "data": {
            "text/plain": [
              "<Figure size 800x600 with 1 Axes>"
            ],
            "image/png": "[encoded data removed]"
          },
          "metadata": {}
        },
        {
          "output_type": "stream",
          "name": "stdout",
          "text": [
            "Q1 (25th percentile): 17.25\n",
            "Q3 (75th percentile): 23.25\n",
            "IQR (Interquartile Range): 6.0\n",
            "Lower Bound for Outliers: 8.25\n",
            "Upper Bound for Outliers: 32.25\n",
            "Identified Outliers: [35]\n"
          ]
        }
      ]
    },
    {
      "cell_type": "markdown",
      "source": [
        "Q1 (25th percentile): 17.25\n",
        "\n",
        "Q3 (75th percentile): 23.25\n",
        "\n",
        "IQR (Interquartile Range): 6.0\n",
        "\n",
        "Lower Bound for Outliers: 8.25\n",
        "\n",
        "Upper Bound for Outliers: 32.25\n",
        "\n",
        "Identified Outliers: [35]\n",
        "\n",
        "- **Explanation of the Results**\n",
        "\n",
        "The boxplot visually represents the distribution of the data.\n",
        "•\tThe box in the boxplot represents the interquartile range (IQR), which contains the middle 50% of the data. The bottom edge of the box is the first quartile (Q1), and the top edge is the third quartile (Q3).\n",
        "\n",
        "•\tThe line inside the box is the median.\n",
        "\n",
        "•\tThe whiskers extend from the box to the minimum and maximum values within 1.5 times the IQR from the box edges.\n",
        "\n",
        "•\tOutliers are data points that fall outside the whiskers, indicated by individual points.\n",
        "\n",
        "In the printed output:\n",
        "\n",
        "•\tQ1 is the 25th percentile of the data.\n",
        "\n",
        "•\tQ3 is the 75th percentile of the data.\n",
        "\n",
        "•\tIQR is the difference between Q3 and Q1.\n",
        "\n",
        "•\tLower Bound for Outliers is calculated as Q1 - 1.5 * IQR. Any data point below this value is considered an outlier.\n",
        "\n",
        "•\tUpper Bound for Outliers is calculated as Q3 + 1.5 * IQR. Any data point above this value is considered an outlier.\n",
        "\n",
        "•\tIdentified Outliers lists the actual data points that fall outside the calculated lower and upper bounds.\n",
        "\n",
        "Based on these calculations and the boxplot, you can see which data points are considered outliers for this dataset.\n",
        "\n",
        "\n"
      ],
      "metadata": {
        "id": "uK4F0I9iFpjX"
      }
    },
    {
      "cell_type": "markdown",
      "source": [
        "# Question 8: You are working as a data analyst in an e-commerce company. The marketing team wants to know if there is a relationship between advertising spend and daily sales.**\n",
        "\n",
        "- **Explain how you would use covariance and correlation to explore this relationship.**\n",
        "- **Write Python code to compute the correlation between the two lists:**\n",
        "\n",
        "**advertising_spend = [200, 250, 300, 400, 500]**\n",
        "\n",
        "**daily_sales = [2200, 2450, 2750, 3200, 4000]**\n",
        "\n",
        "\n",
        "**Explain the use of covariance and correlation**\n",
        "\n",
        "As a data analyst, you can use covariance and correlation to explore the relationship between advertising spend and daily sales in the following ways:\n",
        "\n",
        "**Covariance:**\n",
        "\n",
        "Covariance measures the directional relationship between two variables.\n",
        "\n",
        "  - A positive covariance indicates that as advertising spend increases, daily sales also tend to increase.\n",
        "  - A negative covariance indicates that as advertising spend increases, daily sales tend to decrease.\n",
        "  - A covariance close to zero indicates little to no linear relationship between the two variables.\n",
        "\n",
        "However, the magnitude of covariance is not standardized, making it difficult to compare the strength of the relationship across different datasets.\n",
        "\n",
        "**Correlation:**\n",
        "\n",
        "Correlation is a standardized measure of the linear relationship between two variables. It is a more useful metric than covariance for understanding the strength and direction of the relationship.\n",
        "\n",
        "  - The correlation coefficient (Pearson's r) ranges from -1 to +1.\n",
        "  - A correlation coefficient of +1 indicates a perfect positive linear relationship (as advertising spend increases, daily sales increase proportionally).\n",
        "  - A correlation coefficient of -1 indicates a perfect negative linear relationship (as advertising spend increases, daily sales decrease proportionally).\n",
        "  - A correlation coefficient close to 0 indicates a weak or no linear relationship.\n",
        "\n",
        "By calculating both covariance and correlation, you can not only determine if a relationship exists but also understand its direction and strength. This information is valuable for the marketing team to assess the impact of advertising spend on sales and make data-driven decisions.\n"
      ],
      "metadata": {
        "id": "LLQZHM6TGPSW"
      }
    },
    {
      "cell_type": "code",
      "source": [
        "import numpy as np\n",
        "\n",
        "advertising_spend = [200, 250, 300, 400, 500]\n",
        "daily_sales = [2200, 2450, 2750, 3200, 4000]\n",
        "\n",
        "# Compute the correlation coefficient\n",
        "correlation_coefficient = np.corrcoef(advertising_spend, daily_sales)[0, 1]\n",
        "\n",
        "print(f\"Correlation Coefficient: {correlation_coefficient}\")\n"
      ],
      "metadata": {
        "colab": {
          "base_uri": "https://localhost:8080/"
        },
        "id": "oOLz3INhHy1e",
        "outputId": "39f25c87-9b09-4c4e-aea4-a654b25c8ede"
      },
      "execution_count": 5,
      "outputs": [
        {
          "output_type": "stream",
          "name": "stdout",
          "text": [
            "Correlation Coefficient: 0.9935824101653329\n"
          ]
        }
      ]
    },
    {
      "cell_type": "markdown",
      "source": [
        "# **Question 9: Your team has collected customer satisfaction survey data on a scale of 1-10 and wants to understand its distribution before launching a new product.**\n",
        "\n",
        "  - **Explain which summary statistics and visualizations (e.g. mean, standard deviation, histogram) you’d use. **\n",
        "\n",
        "  - **Write Python code to create a histogram using Matplotlib for the survey data:**\n",
        "\n",
        "  **survey scores = [7, 8, 5, 9, 6, 7, 8, 9, 10, 4, 7, 6, 9, 8, 7]**\n",
        "\n",
        "\n",
        "  - **Explanation of summary statistics and visualizations**\n",
        "\n",
        "     - **Summary statistics**\n",
        "\n",
        "     To understand the distribution of the customer satisfaction survey data (on a scale of 1-10), you can use several summary statistics and visualizations:\n",
        "\n",
        "     **Summary Statistics**\n",
        "\n",
        "     - Mean: The average survey score. This gives you a central value around which the scores are clustered\n",
        "     - Median: The middle survey score when the data is ordered. This is useful if there are extreme scores that might skew the mean.\n",
        "     - Mode: The most frequently occurring survey score. This tells you which score was given most often by customers.\n",
        "     - Standard Deviation: A measure of the spread or variability of the data around the mean. A high standard deviation indicates that the scores are widely spread out, while a low standard deviation indicates that they are clustered closely around the mean.\n",
        "\n",
        "  **Visualization**\n",
        "\n",
        "  - Histogram: A bar graph that shows the frequency distribution of the survey scores. The x-axis represents the survey scores (1-10), and the y-axis represents the count or frequency of each score. A histogram allows you to visually see the shape of the distribution, identify the most common scores, and see if there are any outliers.\n"
      ],
      "metadata": {
        "id": "UDkoiZZEIUDa"
      }
    },
    {
      "cell_type": "code",
      "source": [
        "import matplotlib.pyplot as plt\n",
        "\n",
        "survey_scores = [7, 8, 5, 9, 6, 7, 8, 9, 10, 4, 7, 6, 9, 8, 7]\n",
        "\n",
        "plt.figure(figsize=(8, 6))\n",
        "plt.hist(survey_scores, bins=range(4, 12), align='left', rwidth=0.8) # Bins from 4 to 11 to cover scores 4-10\n",
        "plt.xticks(range(4, 11)) # Set x-axis ticks to correspond to survey scores\n",
        "plt.title('Distribution of Customer Satisfaction Survey Scores')\n",
        "plt.xlabel('Survey Score')\n",
        "plt.ylabel('Frequency')\n",
        "plt.grid(axis='y', alpha=0.75)\n",
        "plt.show()\n"
      ],
      "metadata": {
        "colab": {
          "base_uri": "https://localhost:8080/",
          "height": 564
        },
        "id": "GcgznYhJJPa8",
        "outputId": "7b2b2201-fe75-4320-d5a0-7964be9502ae"
      },
      "execution_count": 6,
      "outputs": [
        {
          "output_type": "display_data",
          "data": {
            "text/plain": [
              "<Figure size 800x600 with 1 Axes>"
            ],
            "image/png": "[encoded data removed]"
          },
          "metadata": {}
        }
      ]
    }
  ]
}